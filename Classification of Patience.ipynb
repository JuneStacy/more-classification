{
 "cells": [
  {
   "cell_type": "code",
   "execution_count": 42,
   "id": "cf55bc8e",
   "metadata": {},
   "outputs": [
    {
     "name": "stderr",
     "output_type": "stream",
     "text": [
      "C:\\Users\\user\\anaconda3\\lib\\site-packages\\sklearn\\cluster\\_kmeans.py:1416: FutureWarning: The default value of `n_init` will change from 10 to 'auto' in 1.4. Set the value of `n_init` explicitly to suppress the warning\n",
      "  super()._check_params_vs_input(X, default_n_init=10)\n"
     ]
    },
    {
     "name": "stdout",
     "output_type": "stream",
     "text": [
      "Little or no medication \n"
     ]
    }
   ],
   "source": [
    "import pandas as pd\n",
    "from sklearn.tree import DecisionTreeClassifier\n",
    "from sklearn.model_selection import train_test_split\n",
    "from sklearn.preprocessing import LabelEncoder\n",
    "from sklearn.metrics import accuracy_score\n",
    "import numpy as np\n",
    "from sklearn.cluster import KMeans\n",
    "from sklearn.preprocessing import StandardScaler\n",
    "\n",
    "columns_to_drop = ['Test Results', 'Medication']\n",
    "\n",
    "df = pd.read_csv(\"healthcare_dataset.csv\")\n",
    "x = df.drop(columns_to_drop, axis=1)\n",
    "y = df['Test Results'] \n",
    "z = df['Medication']\n",
    "\n",
    "mylist = df['Billing Amount']\n",
    "\n",
    "old_value = 'Billing Amount'\n",
    "new_value = 'Billing_Amount'\n",
    "\n",
    "df['Billing Amount'] = df['Billing Amount'].replace(old_value, new_value)\n",
    "\n",
    "X = df[['Age', 'Billing Amount', 'Room Number']].values\n",
    "\n",
    "scaler = StandardScaler()\n",
    "X_scaled = scaler.fit_transform(X)\n",
    "kmeans = KMeans(n_clusters=3, random_state=42)\n",
    "kmeans.fit(X)\n",
    "df['cluster'] = kmeans.labels_\n",
    "df.to_csv('new healthcare_dataset.csv', index=False)\n",
    "\n",
    "def classify_patient(Age, Billing_Amount, Room_Number):\n",
    "    new_data = np.array([Age, Billing_Amount, Room_Number]).reshape(1, -1)\n",
    "    new_data_scaled = scaler.transform(new_data)\n",
    "\n",
    "    cluster_label = kmeans.predict(new_data_scaled)[0]\n",
    "    if cluster_label == 0:\n",
    "        return \"Little or no medication \"\n",
    "    elif cluster_label == 1:\n",
    "        return \"Medication should be provided\"\n",
    "    elif cluster_label == 2:\n",
    "        return \"Medication must be provided and followed strictly\"\n",
    "    else:\n",
    "        return \"More consultation needed for diagnosis\"\n",
    "\n",
    "print(classify_patient(95, 60, 1))"
   ]
  },
  {
   "cell_type": "code",
   "execution_count": null,
   "id": "a9249b2d",
   "metadata": {},
   "outputs": [],
   "source": []
  }
 ],
 "metadata": {
  "kernelspec": {
   "display_name": "Python 3 (ipykernel)",
   "language": "python",
   "name": "python3"
  },
  "language_info": {
   "codemirror_mode": {
    "name": "ipython",
    "version": 3
   },
   "file_extension": ".py",
   "mimetype": "text/x-python",
   "name": "python",
   "nbconvert_exporter": "python",
   "pygments_lexer": "ipython3",
   "version": "3.10.9"
  }
 },
 "nbformat": 4,
 "nbformat_minor": 5
}
